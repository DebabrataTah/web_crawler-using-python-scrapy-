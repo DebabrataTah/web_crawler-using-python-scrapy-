{
 "cells": [
  {
   "cell_type": "code",
   "execution_count": 9,
   "metadata": {
    "scrolled": true
   },
   "outputs": [
    {
     "name": "stderr",
     "output_type": "stream",
     "text": [
      "2018-11-20 21:42:35 [scrapy.utils.log] INFO: Scrapy 1.5.1 started (bot: scrapybot)\n",
      "2018-11-20 21:42:35 [scrapy.utils.log] INFO: Versions: lxml 4.2.5.0, libxml2 2.9.8, cssselect 1.0.3, parsel 1.5.1, w3lib 1.19.0, Twisted 18.7.0, Python 3.7.0 (default, Jun 28 2018, 08:04:48) [MSC v.1912 64 bit (AMD64)], pyOpenSSL 18.0.0 (OpenSSL 1.0.2p  14 Aug 2018), cryptography 2.3.1, Platform Windows-10-10.0.17134-SP0\n",
      "2018-11-20 21:42:35 [scrapy.crawler] INFO: Overridden settings: {}\n",
      "2018-11-20 21:42:35 [scrapy.middleware] INFO: Enabled extensions:\n",
      "['scrapy.extensions.corestats.CoreStats',\n",
      " 'scrapy.extensions.telnet.TelnetConsole',\n",
      " 'scrapy.extensions.logstats.LogStats']\n",
      "2018-11-20 21:42:35 [scrapy.middleware] INFO: Enabled downloader middlewares:\n",
      "['scrapy.downloadermiddlewares.httpauth.HttpAuthMiddleware',\n",
      " 'scrapy.downloadermiddlewares.downloadtimeout.DownloadTimeoutMiddleware',\n",
      " 'scrapy.downloadermiddlewares.defaultheaders.DefaultHeadersMiddleware',\n",
      " 'scrapy.downloadermiddlewares.useragent.UserAgentMiddleware',\n",
      " 'scrapy.downloadermiddlewares.retry.RetryMiddleware',\n",
      " 'scrapy.downloadermiddlewares.redirect.MetaRefreshMiddleware',\n",
      " 'scrapy.downloadermiddlewares.httpcompression.HttpCompressionMiddleware',\n",
      " 'scrapy.downloadermiddlewares.redirect.RedirectMiddleware',\n",
      " 'scrapy.downloadermiddlewares.cookies.CookiesMiddleware',\n",
      " 'scrapy.downloadermiddlewares.httpproxy.HttpProxyMiddleware',\n",
      " 'scrapy.downloadermiddlewares.stats.DownloaderStats']\n",
      "2018-11-20 21:42:35 [scrapy.middleware] INFO: Enabled spider middlewares:\n",
      "['scrapy.spidermiddlewares.httperror.HttpErrorMiddleware',\n",
      " 'scrapy.spidermiddlewares.offsite.OffsiteMiddleware',\n",
      " 'scrapy.spidermiddlewares.referer.RefererMiddleware',\n",
      " 'scrapy.spidermiddlewares.urllength.UrlLengthMiddleware',\n",
      " 'scrapy.spidermiddlewares.depth.DepthMiddleware']\n",
      "2018-11-20 21:42:35 [scrapy.middleware] INFO: Enabled item pipelines:\n",
      "[]\n",
      "2018-11-20 21:42:35 [scrapy.core.engine] INFO: Spider opened\n",
      "2018-11-20 21:42:35 [scrapy.extensions.logstats] INFO: Crawled 0 pages (at 0 pages/min), scraped 0 items (at 0 items/min)\n",
      "2018-11-20 21:42:35 [scrapy.extensions.telnet] DEBUG: Telnet console listening on 127.0.0.1:6030\n"
     ]
    },
    {
     "data": {
      "text/plain": [
       "<Deferred at 0x2854a151f28>"
      ]
     },
     "execution_count": 9,
     "metadata": {},
     "output_type": "execute_result"
    }
   ],
   "source": [
    "from scrapy.crawler import CrawlerProcess\n",
    "from scrapy.utils.project import get_project_settings\n",
    "from scrapy.linkextractors import LinkExtractor\n",
    "from scrapy.contrib.spiders import CrawlSpider, Rule\n",
    "from scrapy.item import Item, Field\n",
    "\n",
    "class Item(Item):\n",
    "    url= Field() #find all image urls in a web page \n",
    "    href= Field() #find all hyperlinks in a web page\n",
    "    \n",
    "class Spider(CrawlSpider):\n",
    "    name = 'fox.com'\n",
    "    allowed_domains = ['fox.com']\n",
    "    start_urls = ['https://www.fox.com/']\n",
    "    rules = (\n",
    "        Rule(LinkExtractor(), callback='parse_item'), # Extract Links\n",
    "    )\n",
    "\n",
    "    def parse_item(self, response):\n",
    "        item = Item()\n",
    "        item['url'] = []\n",
    "        item['href'] = []\n",
    "        for link in LinkExtractor(allow=()).extract_links(response):\n",
    "            for imageurl in response.xpath('//img/@src').extract():\n",
    "                item['url'].append(response.urljoin(imageurl))\n",
    "            for link in response.xpath('//a/@href').extract():\n",
    "                item['href'].append(response.urljoin(link))\n",
    "            return item\n",
    "\n",
    "#Run Scrapy from script   \n",
    "process = CrawlerProcess(get_project_settings())\n",
    "process.crawl(Spider)\n",
    "process.start()"
   ]
  },
  {
   "cell_type": "code",
   "execution_count": null,
   "metadata": {},
   "outputs": [],
   "source": []
  }
 ],
 "metadata": {
  "kernelspec": {
   "display_name": "Python 3",
   "language": "python",
   "name": "python3"
  },
  "language_info": {
   "codemirror_mode": {
    "name": "ipython",
    "version": 3
   },
   "file_extension": ".py",
   "mimetype": "text/x-python",
   "name": "python",
   "nbconvert_exporter": "python",
   "pygments_lexer": "ipython3",
   "version": "3.7.0"
  }
 },
 "nbformat": 4,
 "nbformat_minor": 2
}
